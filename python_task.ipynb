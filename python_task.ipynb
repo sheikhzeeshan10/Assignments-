{
 "cells": [
  {
   "cell_type": "markdown",
   "id": "c1315c62",
   "metadata": {},
   "source": [
    "# 1st Problem: Longest Substring Without Repeating Characters:"
   ]
  },
  {
   "cell_type": "code",
   "execution_count": 1,
   "id": "b48f5043",
   "metadata": {},
   "outputs": [
    {
     "name": "stdout",
     "output_type": "stream",
     "text": [
      "Enter your string:pwwkew\n",
      "3\n"
     ]
    }
   ],
   "source": [
    "s = input(\"Enter your string:\")\n",
    "\n",
    "if(len(s) <= 1 or len(s) >= 5*10**4):\n",
    "    print(\"Invalid Input\")\n",
    "else:\n",
    "    st = []\n",
    "    cnt = []\n",
    "    ad = 0\n",
    "    for i in s:\n",
    "        if (i not in st):\n",
    "            st.append(i)\n",
    "            ad += 1\n",
    "\n",
    "        else:\n",
    "            cnt.append(ad)\n",
    "            ad = 1\n",
    "\n",
    "    print(max(cnt))"
   ]
  },
  {
   "cell_type": "markdown",
   "id": "fb248f97",
   "metadata": {},
   "source": [
    "# 2nd Problem: Generate Parentheses"
   ]
  },
  {
   "cell_type": "code",
   "execution_count": 3,
   "id": "07b8c830",
   "metadata": {},
   "outputs": [
    {
     "name": "stdout",
     "output_type": "stream",
     "text": [
      "['((()))']\n",
      "['(()())']\n",
      "['(())()']\n",
      "['()(())']\n",
      "['()()()']\n"
     ]
    }
   ],
   "source": [
    "\n",
    "def task(no_br,str, open_br, close_br, pos):\n",
    "    last=[]\n",
    "    if( no_br >= 1 and no_br <= 8):\n",
    "\n",
    "        if (open_br < no_br):\n",
    "            str[pos] = '('\n",
    "            task(no_br, str, open_br+1, close_br, pos+1)\n",
    "    \n",
    "        if (open_br > close_br):\n",
    "            str[pos] = ')'\n",
    "            task(no_br, str, open_br, close_br+1, pos+1)\n",
    "        \n",
    "        if (close_br == no_br):\n",
    "\n",
    "            b = ''.join(str)\n",
    "            last.append(b)\n",
    "            print(last)\n",
    "        \n",
    "        \n",
    "        \n",
    "    else:\n",
    "        print(\"Limit Exceeded!\") \n",
    "\n",
    "\n",
    "open_br = close_br = pos = 0\n",
    "no_br = 3\n",
    "str = [' '] * 2 * no_br\n",
    "task(no_br,str, open_br, close_br, pos)\n"
   ]
  },
  {
   "cell_type": "markdown",
   "id": "9a265b5c",
   "metadata": {},
   "source": [
    "# 3rd Problem: Palindrome Partitioning"
   ]
  },
  {
   "cell_type": "code",
   "execution_count": 3,
   "id": "fc8a2346",
   "metadata": {},
   "outputs": [
    {
     "name": "stdout",
     "output_type": "stream",
     "text": [
      "Enter your string:aab\n",
      "{'b', 'a', 'aa'}"
     ]
    }
   ],
   "source": [
    "s = input(\"Enter your string:\")\n",
    "palindromes = set()\n",
    "def expand(s, low, high, palindromes):\n",
    "  \n",
    "    while low >= 0 and high < len(s) and s[low] == s[high]:  \n",
    "        palindromes.add(s[low: high + 1])  \n",
    "        low -= 1\n",
    "        high += 1\n",
    "\n",
    "\n",
    "if( (len(s) >= 1 and len(s) <= 16) and s.islower()):\n",
    "    \n",
    "    \n",
    "    \n",
    "    #se = set(s)\n",
    "    op = list(s)\n",
    "    if(len(s) == 1 or len(s) == 2):   \n",
    "        print(op)\n",
    "    \n",
    "    if(len(s) == 3 and s[0] == s[2]):\n",
    "        op.append(s)\n",
    "        print(op)\n",
    "        \n",
    "    else:\n",
    "        for i in range(len(s)):\n",
    "            expand(s, i, i, palindromes)\n",
    "            expand(s, i, i + 1, palindromes)\n",
    "        print(palindromes, end='')\n",
    "\n",
    "else:\n",
    "    print(\"Invalid Input! Please lowercase letters only or less then 16\")"
   ]
  }
 ],
 "metadata": {
  "kernelspec": {
   "display_name": "Python 3 (ipykernel)",
   "language": "python",
   "name": "python3"
  },
  "language_info": {
   "codemirror_mode": {
    "name": "ipython",
    "version": 3
   },
   "file_extension": ".py",
   "mimetype": "text/x-python",
   "name": "python",
   "nbconvert_exporter": "python",
   "pygments_lexer": "ipython3",
   "version": "3.10.4"
  }
 },
 "nbformat": 4,
 "nbformat_minor": 5
}
